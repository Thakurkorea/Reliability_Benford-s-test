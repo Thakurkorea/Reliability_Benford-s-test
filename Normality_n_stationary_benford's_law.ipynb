{
  "nbformat": 4,
  "nbformat_minor": 0,
  "metadata": {
    "colab": {
      "provenance": []
    },
    "kernelspec": {
      "name": "python3",
      "display_name": "Python 3"
    },
    "language_info": {
      "name": "python"
    }
  },
  "cells": [
    {
      "cell_type": "code",
      "execution_count": 6,
      "metadata": {
        "colab": {
          "base_uri": "https://localhost:8080/"
        },
        "id": "C3KMf6iOoym1",
        "outputId": "ed5eb711-2107-48a4-f789-73080fde72fc"
      },
      "outputs": [
        {
          "output_type": "stream",
          "name": "stdout",
          "text": [
            "Test statistic: 0.9912105798721313\n",
            "p-value: 0.7615456581115723\n",
            "Sample looks Gaussian (fail to reject H0)\n"
          ]
        }
      ],
      "source": [
        "import scipy.stats as stats\n",
        "import numpy as np\n",
        "\n",
        "# Generate some sample data\n",
        "data = np.random.normal(0, 1, 100)\n",
        "\n",
        "# Perform the Shapiro-Wilk test\n",
        "stat, p = stats.shapiro(data)\n",
        "\n",
        "# Print the test results\n",
        "print('Test statistic:', stat)\n",
        "print('p-value:', p)\n",
        "\n",
        "# Interpret the test results\n",
        "alpha = 0.05\n",
        "if p > alpha:\n",
        "    print('Sample looks Gaussian (fail to reject H0)')\n",
        "else:\n",
        "    print('Sample does not look Gaussian (reject H0)')\n"
      ]
    },
    {
      "cell_type": "markdown",
      "source": [
        "Outliers and normality"
      ],
      "metadata": {
        "id": "rdYLIB1VtnGA"
      }
    },
    {
      "cell_type": "code",
      "source": [
        "import numpy as np\n",
        "import scipy.stats as stats\n",
        "import statsmodels.api as sm\n",
        "\n",
        "# create a random dataset\n",
        "data = np.random.normal(size=100)\n",
        "\n",
        "# test for normality using Shapiro-Wilk test\n",
        "stat, p = stats.shapiro(data)\n",
        "print('Shapiro-Wilk test statistic:', stat)\n",
        "print('p-value:', p)\n",
        "if p > 0.05:\n",
        "    print('Data looks Gaussian (fail to reject H0)')\n",
        "else:\n",
        "    print('Data does not look Gaussian (reject H0)')\n",
        "\n",
        "# identify outliers using z-score\n",
        "z = np.abs(stats.zscore(data))\n",
        "threshold = 3\n",
        "outliers = np.where(z > threshold)\n",
        "print('Indices of outliers:', outliers[0])\n",
        "\n",
        "# test for normality using D’Agostino’s K^2 Test\n",
        "stat, p = stats.normaltest(data)\n",
        "print('D’Agostino’s K^2 Test statistic:', stat)\n",
        "print('p-value:', p)\n",
        "if p > 0.05:\n",
        "    print('Data looks Gaussian (fail to reject H0)')\n",
        "else:\n",
        "    print('Data does not look Gaussian (reject H0)')\n",
        "\n",
        "# identify outliers using OLS regression\n",
        "model = sm.OLS(data, np.arange(len(data))).fit()\n",
        "resid = model.resid\n",
        "outliers = np.where(np.abs(resid) > 2 * np.std(resid))\n",
        "print('Indices of outliers:', outliers[0])\n"
      ],
      "metadata": {
        "colab": {
          "base_uri": "https://localhost:8080/"
        },
        "id": "2CK3uWcotqC4",
        "outputId": "98eb4b61-535c-406c-e3f3-03b5b8022f89"
      },
      "execution_count": 11,
      "outputs": [
        {
          "output_type": "stream",
          "name": "stdout",
          "text": [
            "Shapiro-Wilk test statistic: 0.964271605014801\n",
            "p-value: 0.008203013800084591\n",
            "Data does not look Gaussian (reject H0)\n",
            "Indices of outliers: [77]\n",
            "D’Agostino’s K^2 Test statistic: 9.51468020828819\n",
            "p-value: 0.008588423354361606\n",
            "Data does not look Gaussian (reject H0)\n",
            "Indices of outliers: [28 29 48 54 77 94]\n"
          ]
        }
      ]
    },
    {
      "cell_type": "code",
      "source": [
        "import matplotlib.pyplot as plt\n",
        "plt.plot(data)"
      ],
      "metadata": {
        "colab": {
          "base_uri": "https://localhost:8080/",
          "height": 285
        },
        "id": "kjle-fM6tven",
        "outputId": "ab95cd15-460f-4928-ee93-227be63f2186"
      },
      "execution_count": 10,
      "outputs": [
        {
          "output_type": "execute_result",
          "data": {
            "text/plain": [
              "[<matplotlib.lines.Line2D at 0x7f153a56a2e0>]"
            ]
          },
          "metadata": {},
          "execution_count": 10
        },
        {
          "output_type": "display_data",
          "data": {
            "text/plain": [
              "<Figure size 432x288 with 1 Axes>"
            ],
            "image/png": "[encoded data removed]"
          },
          "metadata": {
            "needs_background": "light"
          }
        }
      ]
    },
    {
      "cell_type": "markdown",
      "source": [
        "# Stationary test "
      ],
      "metadata": {
        "id": "uyJIaz_Quuj3"
      }
    },
    {
      "cell_type": "code",
      "source": [
        "import pandas as pd\n",
        "import statsmodels.api as sm\n",
        "\n",
        "# # read data from a CSV file\n",
        "# data = pd.read_csv('data.csv', index_col=0)\n",
        "# create a random dataset\n",
        "data = np.random.normal(size=100)\n",
        "# perform ADF test\n",
        "# result = sm.tsa.stattools.adfuller(data['value'])\n",
        "result = sm.tsa.stattools.adfuller(data)\n",
        "# print test statistics and p-values\n",
        "print('ADF test statistic:', result[0])\n",
        "print('p-value:', result[1])\n",
        "print('Critical values:', result[4])\n",
        "if result[0] < result[4]['5%']:\n",
        "    print('Data is stationary')\n",
        "else:\n",
        "    print('Data is non-stationary')\n"
      ],
      "metadata": {
        "colab": {
          "base_uri": "https://localhost:8080/"
        },
        "id": "Dci2Ju3AusHI",
        "outputId": "74b70a81-4509-498b-c8d3-e624becb3b3d"
      },
      "execution_count": 9,
      "outputs": [
        {
          "output_type": "stream",
          "name": "stdout",
          "text": [
            "ADF test statistic: -4.302368259922212\n",
            "p-value: 0.000440036255749468\n",
            "Critical values: {'1%': -3.506057133647011, '5%': -2.8946066061911946, '10%': -2.5844100201994697}\n",
            "Data is stationary\n"
          ]
        }
      ]
    },
    {
      "cell_type": "markdown",
      "source": [
        "Benford's law"
      ],
      "metadata": {
        "id": "fNpkmH-EwlLu"
      }
    },
    {
      "cell_type": "code",
      "source": [
        "import pandas as pd\n",
        "import numpy as np\n",
        "import matplotlib.pyplot as plt\n",
        "\n",
        "# # read data from a CSV file\n",
        "# # data = pd.read_csv('data.csv')\n",
        "\n",
        "# # get the first digit of each value\n",
        "# first_digits = data.apply(lambda x: int(str(x)[0]))\n",
        "# numpy array case \n",
        "def first_digit(data):\n",
        "  dta=[]\n",
        "  for dt in data:\n",
        "    dta.append(int(str(abs(dt))[0]))\n",
        "  return dta\n",
        "first_digits= first_digit(data)\n",
        "\n",
        "# calculate the expected frequencies according to Benford's Law\n",
        "expected = np.log10(1 + 1 / np.arange(1, 10)) * len(data)\n",
        "\n",
        "# calculate the observed frequencies\n",
        "observed = np.histogram(first_digits, bins=np.arange(1, 11))[0]\n",
        "\n",
        "# plot the expected and observed frequencies\n",
        "fig, ax = plt.subplots()\n",
        "ax.bar(np.arange(1, 10), expected, color='blue', alpha=0.5, label='Expected')\n",
        "ax.bar(np.arange(1, 10), observed, color='red', alpha=0.5, label='Observed')\n",
        "ax.legend()\n",
        "ax.set_xlabel('First Digit')\n",
        "ax.set_ylabel('Frequency')\n",
        "ax.set_title('Benford\\'s Law Test')\n",
        "plt.show()\n",
        "\n",
        "# calculate the chi-square goodness of fit test statistic\n",
        "chisq_stat = np.sum((observed - expected)**2 / expected)\n",
        "print('Chi-square statistic:', chisq_stat)\n",
        "\n",
        "# calculate the p-value for the chi-square test\n",
        "from scipy.stats import chi2\n",
        "df = 8  # degrees of freedom\n",
        "p_value = 1 - chi2.cdf(chisq_stat, df)\n",
        "print('p-value:', p_value)\n",
        "if p_value < 0.05:\n",
        "    print('The data does not follow Benford\\'s Law')\n",
        "else:\n",
        "    print('The data follows Benford\\'s Law')\n"
      ],
      "metadata": {
        "colab": {
          "base_uri": "https://localhost:8080/",
          "height": 347
        },
        "id": "AAwCWj1JwoRn",
        "outputId": "4d2d79c8-5675-4de4-b7a1-855032473d7c"
      },
      "execution_count": 65,
      "outputs": [
        {
          "output_type": "display_data",
          "data": {
            "text/plain": [
              "<Figure size 432x288 with 1 Axes>"
            ],
            "image/png": "[encoded data removed]"
          },
          "metadata": {
            "needs_background": "light"
          }
        },
        {
          "output_type": "stream",
          "name": "stdout",
          "text": [
            "Chi-square statistic: 6231.2462932712715\n",
            "p-value: 0.0\n",
            "The data does not follow Benford's Law\n"
          ]
        }
      ]
    },
    {
      "cell_type": "code",
      "source": [
        "np.log10(1 + 1 / np.arange(1, 10)) * len(data)"
      ],
      "metadata": {
        "colab": {
          "base_uri": "https://localhost:8080/"
        },
        "id": "vZLkDq4sxM0u",
        "outputId": "d81d7e46-e3e7-45e5-ae34-5621aa94369f"
      },
      "execution_count": 15,
      "outputs": [
        {
          "output_type": "execute_result",
          "data": {
            "text/plain": [
              "array([30.10299957, 17.60912591, 12.49387366,  9.6910013 ,  7.9181246 ,\n",
              "        6.69467896,  5.7991947 ,  5.11525224,  4.57574906])"
            ]
          },
          "metadata": {},
          "execution_count": 15
        }
      ]
    },
    {
      "cell_type": "code",
      "source": [
        "int(str(abs(data[0]))[0])"
      ],
      "metadata": {
        "colab": {
          "base_uri": "https://localhost:8080/"
        },
        "id": "qmmdUfIsxoQH",
        "outputId": "4240cd55-819e-418c-e5b6-12b1b4daebbd"
      },
      "execution_count": 24,
      "outputs": [
        {
          "output_type": "execute_result",
          "data": {
            "text/plain": [
              "0"
            ]
          },
          "metadata": {},
          "execution_count": 24
        }
      ]
    },
    {
      "cell_type": "markdown",
      "source": [
        "Outlier handeling "
      ],
      "metadata": {
        "id": "fha9MqrJy-92"
      }
    },
    {
      "cell_type": "code",
      "source": [
        "# Z-score method removing outlier\n",
        "import numpy as np\n",
        "\n",
        "# generate some random data\n",
        "data = np.random.normal(0, 1, 10000)\n",
        "\n",
        "# calculate the Z-score for each data point\n",
        "z_scores = (data - np.mean(data)) / np.std(data)\n",
        "\n",
        "# set a threshold for the Z-score\n",
        "threshold = 3   # normally 3sigma\n",
        "\n",
        "# remove outliers\n",
        "data_clean = data[np.abs(z_scores) < threshold]\n",
        "print(len(data_clean), len(data))\n"
      ],
      "metadata": {
        "colab": {
          "base_uri": "https://localhost:8080/"
        },
        "id": "8O17pARZzFHd",
        "outputId": "0b040908-750c-45aa-b38a-c84d5f2e4f8e"
      },
      "execution_count": 41,
      "outputs": [
        {
          "output_type": "stream",
          "name": "stdout",
          "text": [
            "9975 10000\n"
          ]
        }
      ]
    },
    {
      "cell_type": "code",
      "source": [
        "# IQR method: The IQR (interquartile range) method is another commonly used method to remove outlier\n",
        "import numpy as np\n",
        "\n",
        "# calculate the IQR for the data\n",
        "q1 = np.percentile(data, 25)\n",
        "q3 = np.percentile(data, 75)\n",
        "iqr = q3 - q1\n",
        "\n",
        "# set a range for the data\n",
        "lower_range = q1 - 1.5 * iqr    #usually 1.5 times the IQR\n",
        "upper_range = q3 + 1.5 * iqr\n",
        "\n",
        "# remove outliers\n",
        "data_clean = data[(data >= lower_range) & (data <= upper_range)]\n",
        "print(len(data_clean), len(data))"
      ],
      "metadata": {
        "colab": {
          "base_uri": "https://localhost:8080/"
        },
        "id": "7fbJRKEs0uH9",
        "outputId": "8da5365e-678d-412c-dda5-ab85fe2f2244"
      },
      "execution_count": 42,
      "outputs": [
        {
          "output_type": "stream",
          "name": "stdout",
          "text": [
            "9935 10000\n"
          ]
        }
      ]
    },
    {
      "cell_type": "code",
      "source": [
        "# Visual inspection\n",
        "import numpy as np\n",
        "import matplotlib.pyplot as plt\n",
        "# plot the data\n",
        "fig, ax = plt.subplots()\n",
        "ax.scatter(range(len(data)), data)\n",
        "\n",
        "# identify and remove outliers\n",
        "outliers = [10, 20, 30]  # indices of the outliers\n",
        "data_clean = np.delete(data, outliers)\n"
      ],
      "metadata": {
        "colab": {
          "base_uri": "https://localhost:8080/",
          "height": 265
        },
        "id": "eic_-dEu1IFW",
        "outputId": "52cc626e-8b49-414d-a0c9-c9c98352cf1e"
      },
      "execution_count": 43,
      "outputs": [
        {
          "output_type": "display_data",
          "data": {
            "text/plain": [
              "<Figure size 432x288 with 1 Axes>"
            ],
            "image/png": "[encoded data removed]"
          },
          "metadata": {
            "needs_background": "light"
          }
        }
      ]
    },
    {
      "cell_type": "code",
      "source": [
        "print(len(data_clean), len(data))"
      ],
      "metadata": {
        "id": "JceaYDGizMeu"
      },
      "execution_count": null,
      "outputs": []
    },
    {
      "cell_type": "markdown",
      "source": [
        "Scheffe test"
      ],
      "metadata": {
        "id": "tiXbxEPJ5aEk"
      }
    },
    {
      "cell_type": "code",
      "source": [
        "import numpy as np\n",
        "from scipy.stats import f, t, norm\n",
        "import seaborn as sns\n",
        "sns.set()\n",
        "\n",
        "# Define the data\n",
        "group1 = [3, 6, 8, 9, 10]\n",
        "group2 = [1, 2, 5, 6, 8]\n",
        "group3 = [0, 2, 4, 5, 7]\n",
        "data = np.concatenate([group1, group2, group3])\n",
        "\n",
        "\n",
        "# Calculate the group means and standard deviations\n",
        "group_means = [np.mean(group1), np.mean(group2), np.mean(group3)]\n",
        "group_stdevs = [np.std(group1, ddof=1), np.std(group2, ddof=1), np.std(group3, ddof=1)]\n",
        "\n",
        "# Calculate the total number of observations and the number of groups\n",
        "N = len(data)\n",
        "k = len(group_means)\n",
        "\n",
        "# Calculate the overall mean and variance\n",
        "overall_mean = np.mean(data)\n",
        "overall_var = np.sum((data - overall_mean) ** 2) / (N - 1)\n",
        "\n",
        "# Calculate the F-statistic and p-value for the ANOVA test\n",
        "SSB = np.sum((group_means - overall_mean) ** 2) * len(group1)\n",
        "SSE = np.sum([(np.array(group) - group_mean) ** 2 for group, group_mean in zip([group1, group2, group3], group_means)])\n",
        "MSW = SSE / (N - k)\n",
        "F = (SSB / (k - 1)) / MSW\n",
        "p_value = 1 - f.cdf(F, k - 1, N - k)\n",
        "\n",
        "# Calculate the critical value for the Scheffé test\n",
        "alpha = 0.05\n",
        "dfn = k - 1\n",
        "dfd = N - k\n",
        "q = np.sqrt((k * (k - 1) * f.ppf(1 - alpha, dfn, dfd)) / (dfd * (N - 1)))\n",
        "\n",
        "# Calculate the lower and upper bounds of the confidence intervals\n",
        "CI_bounds = q * np.sqrt(MSW) * np.sqrt(1 / len(group1)) * np.ones((k, k))\n",
        "for i in range(k):\n",
        "    for j in range(k):\n",
        "        if i == j:\n",
        "            CI_bounds[i, j] = 0\n",
        "        elif i < j:\n",
        "            CI_bounds[i, j] = group_means[i] - group_means[j] - CI_bounds[i, j]\n",
        "        else:\n",
        "            CI_bounds[i, j] = group_means[i] - group_means[j] + CI_bounds[j, i]\n",
        "\n",
        "# Print the results\n",
        "print(\"Scheffé's test results:\")\n",
        "print(\"Null hypothesis: The means of all groups are equal\")\n",
        "print(\"Alternative hypothesis: At least one group mean is different\")\n",
        "print(\"F = {:.4f}, p-value = {:.4f}\".format(F, p_value))\n",
        "print(\"Critical value = {:.4f}\".format(q))\n",
        "print(\"Confidence interval bounds:\")\n",
        "print(CI_bounds)\n",
        "df=pd.DataFrame([group1,group2,group3]).T\n",
        "plt.boxplot(df)\n",
        "plt.xlabel('Group')\n",
        "plt.ylabel('Value')\n",
        "plt.show()"
      ],
      "metadata": {
        "colab": {
          "base_uri": "https://localhost:8080/",
          "height": 441
        },
        "id": "FbJs0M8Q1w2m",
        "outputId": "edf1503c-1083-4cad-af15-f8e0ddec37b4"
      },
      "execution_count": 97,
      "outputs": [
        {
          "output_type": "stream",
          "name": "stdout",
          "text": [
            "Scheffé's test results:\n",
            "Null hypothesis: The means of all groups are equal\n",
            "Alternative hypothesis: At least one group mean is different\n",
            "F = 2.3004, p-value = 0.1427\n",
            "Critical value = 0.3725\n",
            "Confidence interval bounds:\n",
            "[[ 0.          2.33573574  3.13573574]\n",
            " [-0.46426426  0.          0.33573574]\n",
            " [-0.46426426 -0.46426426  0.        ]]\n"
          ]
        },
        {
          "output_type": "display_data",
          "data": {
            "text/plain": [
              "<Figure size 432x288 with 1 Axes>"
            ],
            "image/png": "[encoded data removed]"
          },
          "metadata": {}
        }
      ]
    }
  ]
}